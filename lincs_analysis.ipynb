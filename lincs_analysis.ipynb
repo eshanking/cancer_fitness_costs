{
 "cells": [
  {
   "cell_type": "code",
   "execution_count": 8,
   "metadata": {},
   "outputs": [
    {
     "name": "stdout",
     "output_type": "stream",
     "text": [
      "Index(['Cell HMS LINCS ID', 'Cell Name', 'Small Molecule HMS LINCS ID',\n",
      "       'Small Molecule Name', 'Small Mol Concentration', 'Small Mol Conc Unit',\n",
      "       'Replicate', 'Seeding Density', 'Total Cell Count Before Treatment',\n",
      "       'Total Cell Count After Treatment', 'Total Control Cell Count',\n",
      "       'Relative Cell Count', 'Normalized Growth Rate Inhibition Value'],\n",
      "      dtype='object', name=0)\n"
     ]
    }
   ],
   "source": [
    "# https://lincsportal.ccs.miami.edu/datasets\n",
    "\n",
    "import pandas as pd\n",
    "import numpy as np\n",
    "import matplotlib.pyplot as plt\n",
    "import seaborn as sns\n",
    "\n",
    "data_file = 'data/LDS-1261/Data/20256.txt'\n",
    "\n",
    "# read txt with pandas\n",
    "data = pd.read_csv(data_file, sep='\\t', header=None)\n",
    "\n",
    "# change the first row to column names\n",
    "data.columns = data.iloc[0]\n",
    "\n",
    "print(data.columns)"
   ]
  },
  {
   "cell_type": "code",
   "execution_count": 17,
   "metadata": {},
   "outputs": [
    {
     "data": {
      "text/plain": [
       "14"
      ]
     },
     "execution_count": 17,
     "metadata": {},
     "output_type": "execute_result"
    }
   ],
   "source": [
    "data['Small Molecule HMS LINCS ID'] = data['Small Molecule HMS LINCS ID'].fillna('NaN').astype(str)\n",
    "len(np.unique(data['Small Molecule HMS LINCS ID']))"
   ]
  }
 ],
 "metadata": {
  "kernelspec": {
   "display_name": "base",
   "language": "python",
   "name": "python3"
  },
  "language_info": {
   "codemirror_mode": {
    "name": "ipython",
    "version": 3
   },
   "file_extension": ".py",
   "mimetype": "text/x-python",
   "name": "python",
   "nbconvert_exporter": "python",
   "pygments_lexer": "ipython3",
   "version": "3.8.13"
  }
 },
 "nbformat": 4,
 "nbformat_minor": 2
}
